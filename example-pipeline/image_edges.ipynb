{
 "cells": [
  {
   "cell_type": "code",
   "execution_count": null,
   "metadata": {},
   "outputs": [],
   "source": [
    "import cv2\n",
    "import os\n",
    "# import matplotlib.pyplot as plt"
   ]
  },
  {
   "cell_type": "code",
   "execution_count": null,
   "metadata": {},
   "outputs": [],
   "source": [
    "def load_image(filename):\n",
    "    image = cv2.imread(f\"images/{filename}\")\n",
    "    if image is None:\n",
    "        print(f\"Error: Unable to load image {filename}. Please check the file path.\")\n",
    "        return None\n",
    "    return image\n"
   ]
  },
  {
   "cell_type": "code",
   "execution_count": null,
   "metadata": {},
   "outputs": [],
   "source": [
    "for filename in os.listdir(\"datasets/images\"):\n",
    "    new_filename = f\"edges_{filename}\"\n",
    "    image = load_image(f\"datasets/images/{filename}\")\n",
    "\n",
    "    gray_image = cv2.cvtColor(image, cv2.COLOR_BGR2GRAY)\n",
    "    blurred_image = cv2.GaussianBlur(gray_image, (7, 7), 0)\n",
    "    edges = cv2.Canny(blurred_image, threshold1=100, threshold2=200)\n",
    "    inverted_edges = cv2.bitwise_not(edges)\n",
    "    cv2.imwrite(f\"datasets/edges/{filename}\", inverted_edges)\n",
    "\n",
    "    # plt.figure(figsize=(10, 6))\n",
    "    # plt.subplot(121), plt.imshow(cv2.cvtColor(image, cv2.COLOR_BGR2RGB)), plt.title('Original Image')\n",
    "    # plt.subplot(122), plt.imshow(edges, cmap='gray'), plt.title('Edge Image')\n",
    "    # plt.show()"
   ]
  }
 ],
 "metadata": {
  "language_info": {
   "name": "python"
  }
 },
 "nbformat": 4,
 "nbformat_minor": 2
}
