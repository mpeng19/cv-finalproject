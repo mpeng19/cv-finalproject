{
 "cells": [
  {
   "cell_type": "markdown",
   "metadata": {},
   "source": [
    "Create a dataset of (image, segmented image) pairs so that we can get reconstruction loss"
   ]
  },
  {
   "cell_type": "code",
   "execution_count": null,
   "metadata": {},
   "outputs": [],
   "source": [
    "%pip install datasets\n",
    "from datasets import load_dataset\n",
    "\n",
    "dataset = load_dataset(\"HuggingFaceM4/COCO\")"
   ]
  },
  {
   "cell_type": "code",
   "execution_count": null,
   "metadata": {},
   "outputs": [],
   "source": [
    "import os\n",
    "from PIL import Image\n",
    "import json\n",
    "\n",
    "def save_image(image, filepath):\n",
    "    \"\"\"Saves an image to the specified filepath.\"\"\"\n",
    "    os.makedirs(os.path.dirname(filepath), exist_ok=True)\n",
    "    image.save(filepath)\n",
    "\n",
    "def save_images_to_directory(dataset, target_folder, limit):\n",
    "    \"\"\"Saves a set of images from a dataset to a directory\"\"\"\n",
    "    map = {}\n",
    "    map_path = os.path.join(target_folder, \"map.json\")\n",
    "    for idx, item in enumerate(dataset):\n",
    "        if idx >= limit:\n",
    "            # Stop if we've reached the limit\n",
    "            os.makedirs(os.path.dirname(map_path), exist_ok=True)\n",
    "            with open(map_path, \"w\") as f:\n",
    "                json.dump(map, f, indent = 4)\n",
    "                break\n",
    "\n",
    "        #otherwise save the image\n",
    "        image = item['image']\n",
    "        filepath = os.path.join(target_folder, item['filename'])\n",
    "        save_image(image, filepath)\n",
    "        map[item['filename']] = item['sentences']['raw']\n"
   ]
  },
  {
   "cell_type": "code",
   "execution_count": null,
   "metadata": {},
   "outputs": [],
   "source": [
    "target_folder = \"datasets/images\"\n",
    "save_images_to_directory(dataset[\"train\"], target_folder, 15_000)"
   ]
  }
 ],
 "metadata": {
  "kernelspec": {
   "display_name": "base",
   "language": "python",
   "name": "python3"
  },
  "language_info": {
   "codemirror_mode": {
    "name": "ipython",
    "version": 3
   },
   "file_extension": ".py",
   "mimetype": "text/x-python",
   "name": "python",
   "nbconvert_exporter": "python",
   "pygments_lexer": "ipython3",
   "version": "3.10.9"
  }
 },
 "nbformat": 4,
 "nbformat_minor": 2
}
