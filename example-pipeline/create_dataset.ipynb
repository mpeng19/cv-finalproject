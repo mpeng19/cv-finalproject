{
 "cells": [
  {
   "cell_type": "markdown",
   "metadata": {},
   "source": [
    "Create a dataset of (image, segmented image) pairs so that we can get reconstruction loss"
   ]
  },
  {
   "cell_type": "code",
   "execution_count": 5,
   "metadata": {},
   "outputs": [
    {
     "name": "stdout",
     "output_type": "stream",
     "text": [
      "Requirement already satisfied: datasets in /Users/michaelpeng/anaconda3/lib/python3.10/site-packages (2.19.0)\n",
      "Requirement already satisfied: huggingface-hub>=0.21.2 in /Users/michaelpeng/anaconda3/lib/python3.10/site-packages (from datasets) (0.22.2)\n",
      "Requirement already satisfied: aiohttp in /Users/michaelpeng/anaconda3/lib/python3.10/site-packages (from datasets) (3.9.1)\n",
      "Requirement already satisfied: fsspec[http]<=2024.3.1,>=2023.1.0 in /Users/michaelpeng/anaconda3/lib/python3.10/site-packages (from datasets) (2024.3.1)\n",
      "Requirement already satisfied: filelock in /Users/michaelpeng/anaconda3/lib/python3.10/site-packages (from datasets) (3.9.0)\n",
      "Requirement already satisfied: pandas in /Users/michaelpeng/anaconda3/lib/python3.10/site-packages (from datasets) (1.5.3)\n",
      "Requirement already satisfied: tqdm>=4.62.1 in /Users/michaelpeng/anaconda3/lib/python3.10/site-packages (from datasets) (4.64.1)\n",
      "Requirement already satisfied: numpy>=1.17 in /Users/michaelpeng/anaconda3/lib/python3.10/site-packages (from datasets) (1.23.5)\n",
      "Requirement already satisfied: multiprocess in /Users/michaelpeng/anaconda3/lib/python3.10/site-packages (from datasets) (0.70.16)\n",
      "Requirement already satisfied: packaging in /Users/michaelpeng/anaconda3/lib/python3.10/site-packages (from datasets) (22.0)\n",
      "Requirement already satisfied: pyarrow>=12.0.0 in /Users/michaelpeng/anaconda3/lib/python3.10/site-packages (from datasets) (12.0.1)\n",
      "Requirement already satisfied: requests>=2.19.0 in /Users/michaelpeng/anaconda3/lib/python3.10/site-packages (from datasets) (2.28.1)\n",
      "Requirement already satisfied: dill<0.3.9,>=0.3.0 in /Users/michaelpeng/anaconda3/lib/python3.10/site-packages (from datasets) (0.3.8)\n",
      "Requirement already satisfied: pyyaml>=5.1 in /Users/michaelpeng/anaconda3/lib/python3.10/site-packages (from datasets) (6.0.1)\n",
      "Requirement already satisfied: pyarrow-hotfix in /Users/michaelpeng/anaconda3/lib/python3.10/site-packages (from datasets) (0.6)\n",
      "Requirement already satisfied: xxhash in /Users/michaelpeng/anaconda3/lib/python3.10/site-packages (from datasets) (3.4.1)\n",
      "Requirement already satisfied: multidict<7.0,>=4.5 in /Users/michaelpeng/anaconda3/lib/python3.10/site-packages (from aiohttp->datasets) (6.0.4)\n",
      "Requirement already satisfied: aiosignal>=1.1.2 in /Users/michaelpeng/anaconda3/lib/python3.10/site-packages (from aiohttp->datasets) (1.3.1)\n",
      "Requirement already satisfied: yarl<2.0,>=1.0 in /Users/michaelpeng/anaconda3/lib/python3.10/site-packages (from aiohttp->datasets) (1.9.3)\n",
      "Requirement already satisfied: attrs>=17.3.0 in /Users/michaelpeng/anaconda3/lib/python3.10/site-packages (from aiohttp->datasets) (22.1.0)\n",
      "Requirement already satisfied: frozenlist>=1.1.1 in /Users/michaelpeng/anaconda3/lib/python3.10/site-packages (from aiohttp->datasets) (1.4.0)\n",
      "Requirement already satisfied: async-timeout<5.0,>=4.0 in /Users/michaelpeng/anaconda3/lib/python3.10/site-packages (from aiohttp->datasets) (4.0.3)\n",
      "Requirement already satisfied: typing-extensions>=3.7.4.3 in /Users/michaelpeng/anaconda3/lib/python3.10/site-packages (from huggingface-hub>=0.21.2->datasets) (4.8.0)\n",
      "Requirement already satisfied: idna<4,>=2.5 in /Users/michaelpeng/anaconda3/lib/python3.10/site-packages (from requests>=2.19.0->datasets) (3.4)\n",
      "Requirement already satisfied: charset-normalizer<3,>=2 in /Users/michaelpeng/anaconda3/lib/python3.10/site-packages (from requests>=2.19.0->datasets) (2.0.4)\n",
      "Requirement already satisfied: certifi>=2017.4.17 in /Users/michaelpeng/anaconda3/lib/python3.10/site-packages (from requests>=2.19.0->datasets) (2023.5.7)\n",
      "Requirement already satisfied: urllib3<1.27,>=1.21.1 in /Users/michaelpeng/anaconda3/lib/python3.10/site-packages (from requests>=2.19.0->datasets) (1.26.14)\n",
      "Requirement already satisfied: python-dateutil>=2.8.1 in /Users/michaelpeng/anaconda3/lib/python3.10/site-packages (from pandas->datasets) (2.8.2)\n",
      "Requirement already satisfied: pytz>=2020.1 in /Users/michaelpeng/anaconda3/lib/python3.10/site-packages (from pandas->datasets) (2022.7)\n",
      "Requirement already satisfied: six>=1.5 in /Users/michaelpeng/anaconda3/lib/python3.10/site-packages (from python-dateutil>=2.8.1->pandas->datasets) (1.16.0)\n",
      "Note: you may need to restart the kernel to use updated packages.\n"
     ]
    },
    {
     "name": "stderr",
     "output_type": "stream",
     "text": [
      "/Users/michaelpeng/anaconda3/lib/python3.10/site-packages/datasets/load.py:1486: FutureWarning: The repository for HuggingFaceM4/COCO contains custom code which must be executed to correctly load the dataset. You can inspect the repository content at https://hf.co/datasets/HuggingFaceM4/COCO\n",
      "You can avoid this message in future by passing the argument `trust_remote_code=True`.\n",
      "Passing `trust_remote_code=True` will be mandatory to load this dataset from the next major release of `datasets`.\n",
      "  warnings.warn(\n",
      "Downloading data: 100%|██████████| 13.5G/13.5G [11:15<00:00, 20.0MB/s]\n",
      "Downloading data: 100%|██████████| 6.65G/6.65G [06:01<00:00, 18.4MB/s]\n",
      "Generating train split: 566747 examples [00:22, 25151.04 examples/s]\n",
      "Generating validation split: 25010 examples [00:02, 9432.63 examples/s] \n",
      "Generating test split: 25010 examples [00:03, 8013.71 examples/s] \n"
     ]
    }
   ],
   "source": [
    "%pip install datasets\n",
    "from datasets import load_dataset\n",
    "\n",
    "dataset = load_dataset(\"HuggingFaceM4/COCO\")"
   ]
  },
  {
   "cell_type": "code",
   "execution_count": 10,
   "metadata": {},
   "outputs": [],
   "source": [
    "import os\n",
    "from PIL import Image\n",
    "import json\n",
    "\n",
    "def save_image(image, filepath):\n",
    "    \"\"\"Saves an image to the specified filepath.\"\"\"\n",
    "    os.makedirs(os.path.dirname(filepath), exist_ok=True)\n",
    "    image.save(filepath)\n",
    "\n",
    "def save_images_to_directory(dataset, target_folder, limit):\n",
    "    \"\"\"Saves a set of images from a dataset to a directory\"\"\"\n",
    "    map = {}\n",
    "    map_path = os.path.join(target_folder, \"map.json\")\n",
    "    for idx, item in enumerate(dataset):\n",
    "        if idx >= limit:\n",
    "            # Stop if we've reached the limit\n",
    "            os.makedirs(os.path.dirname(map_path), exist_ok=True)\n",
    "            with open(map_path, \"w\") as f:\n",
    "                json.dump(map, f, indent = 4)\n",
    "                break\n",
    "\n",
    "        #otherwise save the image\n",
    "        image = item['image']\n",
    "        filepath = os.path.join(target_folder, item['filename'])\n",
    "        save_image(image, filepath)\n",
    "        map[item['filename']] = item['sentences']['raw']\n"
   ]
  },
  {
   "cell_type": "code",
   "execution_count": 12,
   "metadata": {},
   "outputs": [],
   "source": [
    "target_folder = \"datasets/images\"\n",
    "save_images_to_directory(dataset[\"train\"], target_folder, 15_000)"
   ]
  }
 ],
 "metadata": {
  "kernelspec": {
   "display_name": "base",
   "language": "python",
   "name": "python3"
  },
  "language_info": {
   "codemirror_mode": {
    "name": "ipython",
    "version": 3
   },
   "file_extension": ".py",
   "mimetype": "text/x-python",
   "name": "python",
   "nbconvert_exporter": "python",
   "pygments_lexer": "ipython3",
   "version": "3.10.9"
  }
 },
 "nbformat": 4,
 "nbformat_minor": 2
}
