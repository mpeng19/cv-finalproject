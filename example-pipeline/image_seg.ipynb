{
 "cells": [
  {
   "cell_type": "markdown",
   "metadata": {},
   "source": [
    "We will get image segmentations for each image in our dataset"
   ]
  },
  {
   "cell_type": "code",
   "execution_count": 13,
   "metadata": {},
   "outputs": [],
   "source": [
    "from transformers import AutoImageProcessor, Mask2FormerForUniversalSegmentation\n",
    "from PIL import Image\n",
    "import torch\n",
    "import os"
   ]
  },
  {
   "cell_type": "code",
   "execution_count": 15,
   "metadata": {},
   "outputs": [],
   "source": [
    "image_processor = AutoImageProcessor.from_pretrained(\"facebook/mask2former-swin-small-cityscapes-panoptic\")\n",
    "model = Mask2FormerForUniversalSegmentation.from_pretrained(\n",
    "    \"facebook/mask2former-swin-small-cityscapes-panoptic\"\n",
    ")\n",
    "\n",
    "def segment(image):\n",
    "    inputs = image_processor(image, return_tensors=\"pt\")\n",
    "\n",
    "    with torch.no_grad():\n",
    "        outputs = model(**inputs)\n",
    "\n",
    "    # Model predicts class_queries_logits of shape `(batch_size, num_queries)`\n",
    "    # and masks_queries_logits of shape `(batch_size, num_queries, height, width)`\n",
    "    class_queries_logits = outputs.class_queries_logits\n",
    "    masks_queries_logits = outputs.masks_queries_logits\n",
    "\n",
    "    # Perform post-processing to get panoptic segmentation map\n",
    "    pred_panoptic_map = image_processor.post_process_panoptic_segmentation(\n",
    "        outputs, target_sizes=[image.size[::-1]]\n",
    "    )[0][\"segmentation\"]\n",
    "    return pred_panoptic_map"
   ]
  },
  {
   "cell_type": "code",
   "execution_count": 14,
   "metadata": {},
   "outputs": [],
   "source": [
    "import matplotlib.pyplot as plt\n",
    "import numpy as np\n",
    "\n",
    "def save_segmentation_image(image, pred_panoptic_map, save_path):\n",
    "    # Create a color map\n",
    "    unique_labels = np.unique(pred_panoptic_map)\n",
    "    num_labels = len(unique_labels)\n",
    "    colormap = plt.get_cmap('tab20', num_labels)\n",
    "\n",
    "    # Create a colored segmentation map\n",
    "    seg_image = colormap(pred_panoptic_map / num_labels)\n",
    "\n",
    "    # Initialize plot\n",
    "    fig, ax = plt.subplots(figsize=(12, 8))\n",
    "    ax.imshow(image)\n",
    "    ax.imshow(seg_image, alpha=0.7)  # Set transparency to 70%\n",
    "\n",
    "    # Calculate centroids and put labels\n",
    "    for label in unique_labels:\n",
    "        # Find pixels with each label and calculate their mean position\n",
    "        positions = np.where(pred_panoptic_map == label)\n",
    "        centroid_x, centroid_y = np.mean(positions[1]), np.mean(positions[0])\n",
    "        ax.text(centroid_x, centroid_y, str(label), color='white', fontsize=12, ha='center', va='center')\n",
    "\n",
    "    ax.axis('off')\n",
    "\n",
    "    # Save the figure\n",
    "    # ensure the directory exists\n",
    "    os.makedirs(os.path.dirname(save_path), exist_ok=True)\n",
    "    plt.savefig(save_path, format='jpg', bbox_inches='tight')\n",
    "    plt.close(fig)"
   ]
  },
  {
   "cell_type": "code",
   "execution_count": 8,
   "metadata": {},
   "outputs": [],
   "source": [
    "def load_image(file_path):\n",
    "    try:\n",
    "        # Open the image file\n",
    "        image = Image.open(file_path)\n",
    "        return image\n",
    "    except IOError:\n",
    "        print(\"Error: Unable to load image. Please check the file path.\")\n",
    "        return None"
   ]
  },
  {
   "cell_type": "code",
   "execution_count": 42,
   "metadata": {},
   "outputs": [
    {
     "name": "stdout",
     "output_type": "stream",
     "text": [
      "Error: Unable to load image. Please check the file path.\n",
      "TEST\n",
      "segmented_COCO_val2014_000000367313.jpg\n",
      "True\n",
      "Error: Unable to load image. Please check the file path.\n"
     ]
    }
   ],
   "source": [
    "#iterate over all images in \"datasets/images\" and segment them, store in \"datasets/segmented\" with filename \"segmented_{filename}\"\n",
    "for filename in os.listdir(\"datasets/images\"):\n",
    "    new_filename = f\"segmented_{filename}\"\n",
    "    if filename == 'COCO_val2014_000000324266.jpg':\n",
    "        print(\"TEST\")\n",
    "        print(new_filename)\n",
    "        print(os.path.isfile(f\"datasets/segmented/{new_filename}\"))\n",
    "    #check if already segmented\n",
    "    if os.path.isfile(f\"datasets/segmented/{new_filename}\"):\n",
    "        continue\n",
    "    image = load_image(f\"datasets/images/{filename}\")\n",
    "    if filename == '.DS_Store' or 'map.json':\n",
    "        continue\n",
    "    pred_panoptic_map = segment(image)\n",
    "    save_segmentation_image(image, pred_panoptic_map, f\"datasets/segmented/segmented_{filename}\")"
   ]
  },
  {
   "cell_type": "code",
   "execution_count": 43,
   "metadata": {},
   "outputs": [
    {
     "name": "stdout",
     "output_type": "stream",
     "text": [
      "2999\n",
      "2704\n",
      "{'segmented_COCO_val2014_000000324266.jpg', 'segmented_COCO_val2014_000000468751.jpg', 'segmented_COCO_val2014_000000000785.jpg', 'segmented_COCO_val2014_000000192620.jpg', 'segmented_COCO_val2014_000000085160.jpg', 'segmented_COCO_val2014_000000562875.jpg', 'segmented_COCO_val2014_000000287484.jpg', 'segmented_COCO_val2014_000000452618.jpg', 'segmented_COCO_val2014_000000213421.jpg', 'segmented_COCO_val2014_000000560279.jpg', 'segmented_COCO_val2014_000000245659.jpg', 'segmented_COCO_val2014_000000150358.jpg', 'segmented_COCO_val2014_000000542959.jpg', 'segmented_COCO_val2014_000000522713.jpg', 'segmented_COCO_val2014_000000260020.jpg', 'segmented_COCO_val2014_000000143333.jpg', 'segmented_COCO_val2014_000000225352.jpg', 'segmented_COCO_val2014_000000574178.jpg', 'segmented_COCO_val2014_000000507551.jpg', 'segmented_COCO_val2014_000000446861.jpg', 'segmented_COCO_val2014_000000129739.jpg', 'segmented_COCO_val2014_000000176149.jpg', 'segmented_COCO_val2014_000000223905.jpg', 'segmented_COCO_val2014_000000013843.jpg', 'segmented_COCO_val2014_000000445944.jpg', 'segmented_COCO_val2014_000000054088.jpg', 'segmented_COCO_val2014_000000105951.jpg', 'segmented_COCO_val2014_000000154854.jpg', 'segmented_COCO_val2014_000000464786.jpg', 'segmented_COCO_val2014_000000109370.jpg', 'segmented_COCO_val2014_000000562243.jpg', 'segmented_COCO_val2014_000000327433.jpg', 'segmented_COCO_val2014_000000084097.jpg', 'segmented_COCO_val2014_000000429281.jpg', 'segmented_COCO_val2014_000000181714.jpg', 'segmented_COCO_val2014_000000368905.jpg', 'segmented_COCO_val2014_000000266041.jpg', 'segmented_COCO_val2014_000000369370.jpg', 'segmented_COCO_val2014_000000004495.jpg', 'segmented_COCO_val2014_000000144058.jpg', 'segmented_COCO_val2014_000000223130.jpg', 'segmented_COCO_val2014_000000289899.jpg', 'segmented_COCO_val2014_000000335587.jpg', 'segmented_COCO_val2014_000000165056.jpg', 'segmented_COCO_val2014_000000401718.jpg', 'segmented_COCO_val2014_000000183666.jpg', 'segmented_COCO_val2014_000000137658.jpg', 'segmented_COCO_val2014_000000515779.jpg', 'segmented_COCO_val2014_000000397133.jpg', 'segmented_COCO_val2014_000000184295.jpg', 'segmented_COCO_val2014_000000516893.jpg', 'segmented_COCO_val2014_000000057224.jpg', 'segmented_COCO_val2014_000000185943.jpg', 'segmented_COCO_val2014_000000322164.jpg', 'segmented_COCO_val2014_000000573206.jpg', 'segmented_COCO_val2014_000000163020.jpg', 'segmented_COCO_val2014_000000071209.jpg', 'segmented_COCO_val2014_000000370999.jpg', 'segmented_COCO_val2014_000000100354.jpg', 'segmented_COCO_val2014_000000199602.jpg', 'segmented_COCO_val2014_000000099428.jpg', 'segmented_COCO_val2014_000000290070.jpg', 'segmented_COCO_val2014_000000252696.jpg', 'segmented_COCO_val2014_000000334511.jpg', 'segmented_COCO_val2014_000000442031.jpg', 'segmented_COCO_val2014_000000156503.jpg', 'segmented_COCO_val2014_000000515792.jpg', 'segmented_COCO_val2014_000000261062.jpg', 'segmented_COCO_val2014_000000523195.jpg', 'segmented_COCO_val2014_000000109819.jpg', 'segmented_COCO_val2014_000000458109.jpg', 'segmented_COCO_val2014_000000082180.jpg', 'segmented_COCO_val2014_000000219904.jpg', 'segmented_COCO_val2014_000000475887.jpg', 'segmented_COCO_val2014_000000534827.jpg', 'segmented_COCO_val2014_000000460858.jpg', 'segmented_COCO_val2014_000000392670.jpg', 'segmented_COCO_val2014_000000384401.jpg', 'segmented_COCO_val2014_000000229191.jpg', 'segmented_COCO_val2014_000000173350.jpg', 'segmented_COCO_val2014_000000167696.jpg', 'segmented_COCO_val2014_000000398362.jpg', 'segmented_COCO_val2014_000000501055.jpg', 'segmented_COCO_val2014_000000460494.jpg', 'segmented_COCO_val2014_000000504304.jpg', 'segmented_COCO_val2014_000000200058.jpg', 'segmented_COCO_val2014_000000165686.jpg', 'segmented_COCO_val2014_000000037707.jpg', 'segmented_COCO_val2014_000000208003.jpg', 'segmented_COCO_val2014_000000057387.jpg', 'segmented_COCO_val2014_000000166358.jpg', 'segmented_COCO_val2014_000000564745.jpg', 'segmented_COCO_val2014_000000469088.jpg', 'segmented_COCO_val2014_000000509192.jpg', 'segmented_COCO_val2014_000000033006.jpg', 'segmented_COCO_val2014_000000537692.jpg', 'segmented_COCO_val2014_000000160529.jpg', 'segmented_COCO_val2014_000000472509.jpg', 'segmented_COCO_val2014_000000021167.jpg', 'segmented_COCO_val2014_000000521964.jpg', 'segmented_COCO_val2014_000000003926.jpg', 'segmented_COCO_val2014_000000009628.jpg', 'segmented_COCO_val2014_000000104326.jpg', 'segmented_COCO_val2014_000000091667.jpg', 'segmented_COCO_val2014_000000143132.jpg', 'segmented_COCO_val2014_000000077296.jpg', 'segmented_COCO_val2014_000000261061.jpg', 'segmented_COCO_val2014_000000507633.jpg', 'segmented_COCO_val2014_000000480416.jpg', 'segmented_COCO_val2014_000000082157.jpg', 'segmented_COCO_val2014_000000041687.jpg', 'segmented_COCO_val2014_000000558524.jpg', 'segmented_COCO_val2014_000000250108.jpg', 'segmented_COCO_val2014_000000282674.jpg', 'segmented_COCO_val2014_000000569103.jpg', 'segmented_COCO_val2014_000000529041.jpg', 'segmented_COCO_val2014_000000189773.jpg', 'segmented_COCO_val2014_000000556131.jpg', 'segmented_COCO_val2014_000000375363.jpg', 'segmented_COCO_val2014_000000456496.jpg', 'segmented_COCO_val2014_000000218947.jpg', 'segmented_COCO_val2014_000000568587.jpg', 'segmented_COCO_val2014_000000063154.jpg', 'segmented_COCO_val2014_000000502414.jpg', 'segmented_COCO_val2014_000000369763.jpg', 'segmented_COCO_val2014_000000332968.jpg', 'segmented_COCO_val2014_000000469329.jpg', 'segmented_COCO_val2014_000000335578.jpg', 'segmented_COCO_val2014_000000553667.jpg', 'segmented_COCO_val2014_000000463837.jpg', 'segmented_COCO_val2014_000000057597.jpg', 'segmented_COCO_val2014_000000560332.jpg', 'segmented_COCO_val2014_000000414289.jpg', 'segmented_COCO_val2014_000000538204.jpg', 'segmented_COCO_val2014_000000293802.jpg', 'segmented_COCO_val2014_000000270351.jpg', 'segmented_COCO_val2014_000000515579.jpg', 'segmented_COCO_val2014_000000192233.jpg', 'segmented_COCO_val2014_000000480985.jpg', 'segmented_COCO_val2014_000000526576.jpg', 'segmented_COCO_val2014_000000480210.jpg', 'segmented_COCO_val2014_000000181267.jpg', 'segmented_COCO_val2014_000000010393.jpg', 'segmented_COCO_val2014_000000125062.jpg', 'segmented_COCO_val2014_000000270810.jpg', 'segmented_COCO_val2014_000000154883.jpg', 'segmented_COCO_val2014_000000555983.jpg', 'segmented_COCO_val2014_000000290113.jpg', 'segmented_COCO_val2014_000000146738.jpg', 'segmented_COCO_val2014_000000300138.jpg', 'segmented_COCO_val2014_000000370423.jpg', 'segmented_COCO_val2014_000000303342.jpg', 'segmented_map.json', 'segmented_COCO_val2014_000000130527.jpg', 'segmented_COCO_val2014_000000470095.jpg', 'segmented_COCO_val2014_000000577539.jpg', 'segmented_COCO_val2014_000000542145.jpg', 'segmented_COCO_val2014_000000464751.jpg', 'segmented_COCO_val2014_000000168200.jpg', 'segmented_COCO_val2014_000000247306.jpg', 'segmented_COCO_val2014_000000199951.jpg', 'segmented_COCO_val2014_000000153685.jpg', 'segmented_COCO_val2014_000000413295.jpg', 'segmented_COCO_val2014_000000023200.jpg', 'segmented_COCO_val2014_000000260141.jpg', 'segmented_COCO_val2014_000000551517.jpg', 'segmented_COCO_val2014_000000554900.jpg', 'segmented_COCO_val2014_000000489382.jpg', 'segmented_COCO_val2014_000000017198.jpg', 'segmented_COCO_val2014_000000015559.jpg', 'segmented_COCO_val2014_000000375015.jpg', 'segmented_COCO_val2014_000000458054.jpg', 'segmented_COCO_val2014_000000251798.jpg', 'segmented_COCO_val2014_000000557562.jpg', 'segmented_COCO_val2014_000000483135.jpg', 'segmented_COCO_val2014_000000535643.jpg', 'segmented_COCO_val2014_000000416489.jpg', 'segmented_COCO_val2014_000000213795.jpg', 'segmented_COCO_val2014_000000064599.jpg', 'segmented_COCO_val2014_000000389721.jpg', 'segmented_COCO_val2014_000000101088.jpg', 'segmented_COCO_val2014_000000278848.jpg', 'segmented_COCO_val2014_000000108326.jpg', 'segmented_COCO_val2014_000000356544.jpg', 'segmented_COCO_val2014_000000561629.jpg', 'segmented_COCO_val2014_000000311746.jpg', 'segmented_COCO_val2014_000000272008.jpg', 'segmented_COCO_val2014_000000043133.jpg', 'segmented_COCO_val2014_000000031599.jpg', 'segmented_COCO_val2014_000000030255.jpg', 'segmented_COCO_val2014_000000468545.jpg', 'segmented_COCO_val2014_000000485802.jpg', 'segmented_COCO_val2014_000000418711.jpg', 'segmented_COCO_val2014_000000023201.jpg', 'segmented_COCO_val2014_000000024157.jpg', 'segmented_COCO_val2014_000000259112.jpg', 'segmented_COCO_val2014_000000155380.jpg', 'segmented_COCO_val2014_000000264535.jpg', 'segmented_COCO_val2014_000000309492.jpg', 'segmented_COCO_val2014_000000150987.jpg', 'segmented_COCO_val2014_000000348140.jpg', 'segmented_COCO_val2014_000000220214.jpg', 'segmented_COCO_val2014_000000271259.jpg', 'segmented_COCO_val2014_000000318171.jpg', 'segmented_COCO_val2014_000000508514.jpg', 'segmented_COCO_val2014_000000332570.jpg', 'segmented_COCO_val2014_000000173379.jpg', 'segmented_COCO_val2014_000000056701.jpg', 'segmented_COCO_val2014_000000356427.jpg', 'segmented_COCO_val2014_000000130732.jpg', 'segmented_COCO_val2014_000000123598.jpg', 'segmented_COCO_val2014_000000191301.jpg', 'segmented_COCO_val2014_000000032682.jpg', 'segmented_COCO_val2014_000000468784.jpg', 'segmented_COCO_val2014_000000041888.jpg', 'segmented_COCO_val2014_000000416059.jpg', 'segmented_COCO_val2014_000000056714.jpg', 'segmented_COCO_val2014_000000431746.jpg', 'segmented_COCO_val2014_000000381382.jpg', 'segmented_COCO_val2014_000000209692.jpg', 'segmented_COCO_val2014_000000231508.jpg', 'segmented_COCO_val2014_000000087038.jpg', 'segmented_COCO_val2014_000000137300.jpg', 'segmented_COCO_val2014_000000397327.jpg', 'segmented_COCO_val2014_000000267571.jpg', 'segmented_COCO_val2014_000000323682.jpg', 'segmented_COCO_val2014_000000507223.jpg', 'segmented_COCO_val2014_000000334075.jpg', 'segmented_COCO_val2014_000000301755.jpg', 'segmented_COCO_val2014_000000345329.jpg', 'segmented_COCO_val2014_000000049756.jpg', 'segmented_COCO_val2014_000000265574.jpg', 'segmented_COCO_val2014_000000487151.jpg', 'segmented_COCO_val2014_000000205134.jpg', 'segmented_COCO_val2014_000000432503.jpg', 'segmented_COCO_val2014_000000079047.jpg', 'segmented_COCO_val2014_000000043535.jpg', 'segmented_COCO_val2014_000000201756.jpg', 'segmented_COCO_val2014_000000483525.jpg', 'segmented_COCO_val2014_000000278121.jpg', 'segmented_COCO_val2014_000000501242.jpg', 'segmented_COCO_val2014_000000446322.jpg', 'segmented_COCO_val2014_000000205533.jpg', 'segmented_COCO_val2014_000000240119.jpg', 'segmented_COCO_val2014_000000253171.jpg', 'segmented_COCO_val2014_000000408930.jpg', 'segmented_COCO_val2014_000000187979.jpg', 'segmented_COCO_val2014_000000352496.jpg', 'segmented_COCO_val2014_000000232954.jpg', 'segmented_COCO_val2014_000000127474.jpg', 'segmented_COCO_val2014_000000333730.jpg', 'segmented_COCO_val2014_000000310302.jpg', 'segmented_COCO_val2014_000000012547.jpg', 'segmented_COCO_val2014_000000173033.jpg', 'segmented_COCO_val2014_000000147787.jpg', 'segmented_COCO_val2014_000000077123.jpg', 'segmented_COCO_val2014_000000455229.jpg', 'segmented_COCO_val2014_000000572051.jpg', 'segmented_COCO_val2014_000000288403.jpg', 'segmented_COCO_val2014_000000145422.jpg', 'segmented_COCO_val2014_000000001856.jpg', 'segmented_COCO_val2014_000000123599.jpg', 'segmented_COCO_val2014_000000035474.jpg', 'segmented_COCO_val2014_000000384204.jpg', 'segmented_COCO_val2014_000000128180.jpg', 'segmented_COCO_val2014_000000559956.jpg', 'segmented_COCO_val2014_000000266727.jpg', 'segmented_COCO_val2014_000000358555.jpg', 'segmented_COCO_val2014_000000017364.jpg', 'segmented_COCO_val2014_000000365366.jpg', 'segmented_COCO_val2014_000000451463.jpg', 'segmented_COCO_val2014_000000383621.jpg', 'segmented_COCO_val2014_000000281221.jpg', 'segmented_COCO_val2014_000000315905.jpg', 'segmented_COCO_val2014_000000127259.jpg', 'segmented_COCO_val2014_000000209322.jpg', 'segmented_COCO_val2014_000000550597.jpg', 'segmented_COCO_val2014_000000212663.jpg', 'segmented_.DS_Store', 'segmented_COCO_val2014_000000032907.jpg', 'segmented_COCO_val2014_000000513646.jpg', 'segmented_COCO_val2014_000000398604.jpg', 'segmented_COCO_val2014_000000376442.jpg', 'segmented_COCO_val2014_000000181058.jpg', 'segmented_COCO_val2014_000000475064.jpg', 'segmented_COCO_val2014_000000535668.jpg', 'segmented_COCO_val2014_000000003932.jpg', 'segmented_COCO_val2014_000000292103.jpg', 'segmented_COCO_val2014_000000025467.jpg', 'segmented_COCO_val2014_000000286606.jpg', 'segmented_COCO_val2014_000000249909.jpg', 'segmented_COCO_val2014_000000492366.jpg', 'segmented_COCO_val2014_000000409581.jpg', 'segmented_COCO_val2014_000000316438.jpg', 'segmented_COCO_val2014_000000549399.jpg'}\n"
     ]
    }
   ],
   "source": [
    "test = set()\n",
    "for filename in os.listdir(\"datasets/images\"):\n",
    "    test.add(f\"segmented_{filename}\")\n",
    "print(len(test))\n",
    "test2 = set()\n",
    "for filename in os.listdir(\"datasets/segmented\"):\n",
    "    test2.add(filename)\n",
    "print(len(test2))\n",
    "\n",
    "print(test.difference(test2))"
   ]
  }
 ],
 "metadata": {
  "kernelspec": {
   "display_name": "base",
   "language": "python",
   "name": "python3"
  },
  "language_info": {
   "codemirror_mode": {
    "name": "ipython",
    "version": 3
   },
   "file_extension": ".py",
   "mimetype": "text/x-python",
   "name": "python",
   "nbconvert_exporter": "python",
   "pygments_lexer": "ipython3",
   "version": "3.10.9"
  }
 },
 "nbformat": 4,
 "nbformat_minor": 2
}
