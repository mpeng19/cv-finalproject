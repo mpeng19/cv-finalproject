{
 "cells": [
  {
   "cell_type": "markdown",
   "metadata": {},
   "source": [
    "We will get image segmentations for each image in our dataset"
   ]
  },
  {
   "cell_type": "code",
   "execution_count": 13,
   "metadata": {},
   "outputs": [],
   "source": [
    "from transformers import AutoImageProcessor, Mask2FormerForUniversalSegmentation\n",
    "from PIL import Image\n",
    "import torch\n",
    "import os"
   ]
  },
  {
   "cell_type": "code",
   "execution_count": 15,
   "metadata": {},
   "outputs": [],
   "source": [
    "image_processor = AutoImageProcessor.from_pretrained(\"facebook/mask2former-swin-small-cityscapes-panoptic\")\n",
    "model = Mask2FormerForUniversalSegmentation.from_pretrained(\n",
    "    \"facebook/mask2former-swin-small-cityscapes-panoptic\"\n",
    ")\n",
    "\n",
    "def segment(image):\n",
    "    inputs = image_processor(image, return_tensors=\"pt\")\n",
    "\n",
    "    with torch.no_grad():\n",
    "        outputs = model(**inputs)\n",
    "\n",
    "    # Model predicts class_queries_logits of shape `(batch_size, num_queries)`\n",
    "    # and masks_queries_logits of shape `(batch_size, num_queries, height, width)`\n",
    "    class_queries_logits = outputs.class_queries_logits\n",
    "    masks_queries_logits = outputs.masks_queries_logits\n",
    "\n",
    "    # Perform post-processing to get panoptic segmentation map\n",
    "    pred_panoptic_map = image_processor.post_process_panoptic_segmentation(\n",
    "        outputs, target_sizes=[image.size[::-1]]\n",
    "    )[0][\"segmentation\"]\n",
    "    return pred_panoptic_map"
   ]
  },
  {
   "cell_type": "code",
   "execution_count": 14,
   "metadata": {},
   "outputs": [],
   "source": [
    "import matplotlib.pyplot as plt\n",
    "import numpy as np\n",
    "\n",
    "def save_segmentation_image(image, pred_panoptic_map, save_path):\n",
    "    # Create a color map\n",
    "    unique_labels = np.unique(pred_panoptic_map)\n",
    "    num_labels = len(unique_labels)\n",
    "    colormap = plt.get_cmap('tab20', num_labels)\n",
    "\n",
    "    # Create a colored segmentation map\n",
    "    seg_image = colormap(pred_panoptic_map / num_labels)\n",
    "\n",
    "    # Initialize plot\n",
    "    fig, ax = plt.subplots(figsize=(12, 8))\n",
    "    ax.imshow(image)\n",
    "    ax.imshow(seg_image, alpha=0.7)  # Set transparency to 70%\n",
    "\n",
    "    # Calculate centroids and put labels\n",
    "    for label in unique_labels:\n",
    "        # Find pixels with each label and calculate their mean position\n",
    "        positions = np.where(pred_panoptic_map == label)\n",
    "        centroid_x, centroid_y = np.mean(positions[1]), np.mean(positions[0])\n",
    "        ax.text(centroid_x, centroid_y, str(label), color='white', fontsize=12, ha='center', va='center')\n",
    "\n",
    "    ax.axis('off')\n",
    "\n",
    "    # Save the figure\n",
    "    # ensure the directory exists\n",
    "    os.makedirs(os.path.dirname(save_path), exist_ok=True)\n",
    "    plt.savefig(save_path, format='jpg', bbox_inches='tight')\n",
    "    plt.close(fig)"
   ]
  },
  {
   "cell_type": "code",
   "execution_count": 8,
   "metadata": {},
   "outputs": [],
   "source": [
    "def load_image(file_path):\n",
    "    try:\n",
    "        # Open the image file\n",
    "        image = Image.open(file_path)\n",
    "        return image\n",
    "    except IOError:\n",
    "        print(\"Error: Unable to load image. Please check the file path.\")\n",
    "        return None"
   ]
  },
  {
   "cell_type": "code",
   "execution_count": 50,
   "metadata": {},
   "outputs": [
    {
     "name": "stdout",
     "output_type": "stream",
     "text": [
      "Error: Unable to load image. Please check the file path.\n",
      ".DS_Store\n",
      "Error: Unable to load image. Please check the file path.\n",
      "map.json\n"
     ]
    }
   ],
   "source": [
    "#iterate over all images in \"datasets/images\" and segment them, store in \"datasets/segmented\" with filename \"segmented_{filename}\"\n",
    "for filename in os.listdir(\"datasets/images\"):\n",
    "    new_filename = f\"segmented_{filename}\"\n",
    "    #check if already segmented\n",
    "    if os.path.isfile(f\"datasets/segmented/{new_filename}\"):\n",
    "        continue\n",
    "    image = load_image(f\"datasets/images/{filename}\")\n",
    "    if filename == '.DS_Store' or filename == 'map.json':\n",
    "        continue\n",
    "    pred_panoptic_map = segment(image)\n",
    "    save_segmentation_image(image, pred_panoptic_map, f\"datasets/segmented/segmented_{filename}\")"
   ]
  }
 ],
 "metadata": {
  "kernelspec": {
   "display_name": "base",
   "language": "python",
   "name": "python3"
  },
  "language_info": {
   "codemirror_mode": {
    "name": "ipython",
    "version": 3
   },
   "file_extension": ".py",
   "mimetype": "text/x-python",
   "name": "python",
   "nbconvert_exporter": "python",
   "pygments_lexer": "ipython3",
   "version": "3.10.9"
  }
 },
 "nbformat": 4,
 "nbformat_minor": 2
}
