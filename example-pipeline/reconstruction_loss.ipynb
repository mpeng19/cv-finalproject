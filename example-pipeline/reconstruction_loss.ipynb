{
 "cells": [
  {
   "cell_type": "code",
   "execution_count": 1,
   "metadata": {},
   "outputs": [
    {
     "name": "stdout",
     "output_type": "stream",
     "text": [
      "Requirement already satisfied: Pillow in /Users/michaelpeng/anaconda3/lib/python3.10/site-packages (9.4.0)\n",
      "Requirement already satisfied: numpy in /Users/michaelpeng/anaconda3/lib/python3.10/site-packages (1.23.5)\n",
      "Note: you may need to restart the kernel to use updated packages.\n"
     ]
    }
   ],
   "source": [
    "%pip install Pillow numpy"
   ]
  },
  {
   "cell_type": "code",
   "execution_count": 36,
   "metadata": {},
   "outputs": [],
   "source": [
    "from PIL import Image\n",
    "import numpy as np\n",
    "\n",
    "def image_reconstruction_loss(image_path1, image_path2):\n",
    "    # Load images using PIL\n",
    "    image1 = Image.open(image_path1)\n",
    "    image2 = Image.open(image_path2)\n",
    "    \n",
    "    # Convert images to arrays\n",
    "    image1_array = np.array(image1)\n",
    "    image2_array = np.array(image2)\n",
    "    \n",
    "    # Check if images have the same dimensions and number of channels\n",
    "    if image1_array.shape != image2_array.shape:\n",
    "        # resize image2 to match image1\n",
    "        image2 = image2.resize((image1.width, image1.height))\n",
    "        image2_array = np.array(image2)\n",
    "        \n",
    "    # Compute Mean Squared Error (MSE) between the two images\n",
    "    mse = np.mean((image1_array - image2_array) ** 2)\n",
    "    return mse"
   ]
  },
  {
   "cell_type": "code",
   "execution_count": 37,
   "metadata": {},
   "outputs": [
    {
     "name": "stdout",
     "output_type": "stream",
     "text": [
      "107.26692266666667\n"
     ]
    }
   ],
   "source": [
    "#Load two images\n",
    "image_path1 = \"datasets/images/COCO_val2014_000000580041.jpg\"\n",
    "image_path2 = \"datasets/images/COCO_val2014_000000000724.jpg\"\n",
    "print(image_reconstruction_loss(image_path1, image_path2))"
   ]
  }
 ],
 "metadata": {
  "kernelspec": {
   "display_name": "base",
   "language": "python",
   "name": "python3"
  },
  "language_info": {
   "codemirror_mode": {
    "name": "ipython",
    "version": 3
   },
   "file_extension": ".py",
   "mimetype": "text/x-python",
   "name": "python",
   "nbconvert_exporter": "python",
   "pygments_lexer": "ipython3",
   "version": "3.10.9"
  }
 },
 "nbformat": 4,
 "nbformat_minor": 2
}
