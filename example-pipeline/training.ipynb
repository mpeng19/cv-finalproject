{
 "cells": [
  {
   "cell_type": "code",
   "execution_count": 1,
   "metadata": {},
   "outputs": [
    {
     "name": "stdout",
     "output_type": "stream",
     "text": [
      "Requirement already satisfied: torch in /Users/michaelpeng/anaconda3/lib/python3.10/site-packages (2.3.0)\n",
      "Requirement already satisfied: torchvision in /Users/michaelpeng/anaconda3/lib/python3.10/site-packages (0.18.0)\n",
      "Requirement already satisfied: transformers in /Users/michaelpeng/anaconda3/lib/python3.10/site-packages (4.40.1)\n",
      "Requirement already satisfied: fsspec in /Users/michaelpeng/anaconda3/lib/python3.10/site-packages (from torch) (2024.3.1)\n",
      "Requirement already satisfied: filelock in /Users/michaelpeng/anaconda3/lib/python3.10/site-packages (from torch) (3.9.0)\n",
      "Requirement already satisfied: networkx in /Users/michaelpeng/anaconda3/lib/python3.10/site-packages (from torch) (2.8.4)\n",
      "Requirement already satisfied: sympy in /Users/michaelpeng/anaconda3/lib/python3.10/site-packages (from torch) (1.11.1)\n",
      "Requirement already satisfied: typing-extensions>=4.8.0 in /Users/michaelpeng/anaconda3/lib/python3.10/site-packages (from torch) (4.8.0)\n",
      "Requirement already satisfied: jinja2 in /Users/michaelpeng/anaconda3/lib/python3.10/site-packages (from torch) (3.1.2)\n",
      "Requirement already satisfied: numpy in /Users/michaelpeng/anaconda3/lib/python3.10/site-packages (from torchvision) (1.23.5)\n",
      "Requirement already satisfied: pillow!=8.3.*,>=5.3.0 in /Users/michaelpeng/anaconda3/lib/python3.10/site-packages (from torchvision) (9.4.0)\n",
      "Requirement already satisfied: regex!=2019.12.17 in /Users/michaelpeng/anaconda3/lib/python3.10/site-packages (from transformers) (2022.7.9)\n",
      "Requirement already satisfied: requests in /Users/michaelpeng/anaconda3/lib/python3.10/site-packages (from transformers) (2.28.1)\n",
      "Requirement already satisfied: huggingface-hub<1.0,>=0.19.3 in /Users/michaelpeng/anaconda3/lib/python3.10/site-packages (from transformers) (0.22.2)\n",
      "Requirement already satisfied: tokenizers<0.20,>=0.19 in /Users/michaelpeng/anaconda3/lib/python3.10/site-packages (from transformers) (0.19.1)\n",
      "Requirement already satisfied: safetensors>=0.4.1 in /Users/michaelpeng/anaconda3/lib/python3.10/site-packages (from transformers) (0.4.3)\n",
      "Requirement already satisfied: packaging>=20.0 in /Users/michaelpeng/anaconda3/lib/python3.10/site-packages (from transformers) (22.0)\n",
      "Requirement already satisfied: tqdm>=4.27 in /Users/michaelpeng/anaconda3/lib/python3.10/site-packages (from transformers) (4.66.4)\n",
      "Requirement already satisfied: pyyaml>=5.1 in /Users/michaelpeng/anaconda3/lib/python3.10/site-packages (from transformers) (6.0.1)\n",
      "Requirement already satisfied: MarkupSafe>=2.0 in /Users/michaelpeng/anaconda3/lib/python3.10/site-packages (from jinja2->torch) (2.1.1)\n",
      "Requirement already satisfied: certifi>=2017.4.17 in /Users/michaelpeng/anaconda3/lib/python3.10/site-packages (from requests->transformers) (2023.5.7)\n",
      "Requirement already satisfied: charset-normalizer<3,>=2 in /Users/michaelpeng/anaconda3/lib/python3.10/site-packages (from requests->transformers) (2.0.4)\n",
      "Requirement already satisfied: urllib3<1.27,>=1.21.1 in /Users/michaelpeng/anaconda3/lib/python3.10/site-packages (from requests->transformers) (1.26.14)\n",
      "Requirement already satisfied: idna<4,>=2.5 in /Users/michaelpeng/anaconda3/lib/python3.10/site-packages (from requests->transformers) (3.4)\n",
      "Requirement already satisfied: mpmath>=0.19 in /Users/michaelpeng/anaconda3/lib/python3.10/site-packages/mpmath-1.2.1-py3.10.egg (from sympy->torch) (1.2.1)\n",
      "Note: you may need to restart the kernel to use updated packages.\n",
      "Requirement already satisfied: wandb in /Users/michaelpeng/anaconda3/lib/python3.10/site-packages (0.17.0)\n",
      "Requirement already satisfied: click!=8.0.0,>=7.1 in /Users/michaelpeng/anaconda3/lib/python3.10/site-packages (from wandb) (8.1.7)\n",
      "Requirement already satisfied: psutil>=5.0.0 in /Users/michaelpeng/anaconda3/lib/python3.10/site-packages (from wandb) (5.9.0)\n",
      "Requirement already satisfied: setuptools in /Users/michaelpeng/anaconda3/lib/python3.10/site-packages (from wandb) (65.6.3)\n",
      "Requirement already satisfied: platformdirs in /Users/michaelpeng/anaconda3/lib/python3.10/site-packages (from wandb) (2.5.2)\n",
      "Requirement already satisfied: setproctitle in /Users/michaelpeng/anaconda3/lib/python3.10/site-packages (from wandb) (1.3.3)\n",
      "Requirement already satisfied: docker-pycreds>=0.4.0 in /Users/michaelpeng/anaconda3/lib/python3.10/site-packages (from wandb) (0.4.0)\n",
      "Requirement already satisfied: requests<3,>=2.0.0 in /Users/michaelpeng/anaconda3/lib/python3.10/site-packages (from wandb) (2.28.1)\n",
      "Requirement already satisfied: sentry-sdk>=1.0.0 in /Users/michaelpeng/anaconda3/lib/python3.10/site-packages (from wandb) (2.1.1)\n",
      "Requirement already satisfied: protobuf!=4.21.0,<5,>=3.19.0 in /Users/michaelpeng/anaconda3/lib/python3.10/site-packages (from wandb) (4.25.3)\n",
      "Requirement already satisfied: gitpython!=3.1.29,>=1.0.0 in /Users/michaelpeng/anaconda3/lib/python3.10/site-packages (from wandb) (3.1.43)\n",
      "Requirement already satisfied: pyyaml in /Users/michaelpeng/anaconda3/lib/python3.10/site-packages (from wandb) (6.0.1)\n",
      "Requirement already satisfied: six>=1.4.0 in /Users/michaelpeng/anaconda3/lib/python3.10/site-packages (from docker-pycreds>=0.4.0->wandb) (1.16.0)\n",
      "Requirement already satisfied: gitdb<5,>=4.0.1 in /Users/michaelpeng/anaconda3/lib/python3.10/site-packages (from gitpython!=3.1.29,>=1.0.0->wandb) (4.0.11)\n",
      "Requirement already satisfied: certifi>=2017.4.17 in /Users/michaelpeng/anaconda3/lib/python3.10/site-packages (from requests<3,>=2.0.0->wandb) (2023.5.7)\n",
      "Requirement already satisfied: urllib3<1.27,>=1.21.1 in /Users/michaelpeng/anaconda3/lib/python3.10/site-packages (from requests<3,>=2.0.0->wandb) (1.26.14)\n",
      "Requirement already satisfied: charset-normalizer<3,>=2 in /Users/michaelpeng/anaconda3/lib/python3.10/site-packages (from requests<3,>=2.0.0->wandb) (2.0.4)\n",
      "Requirement already satisfied: idna<4,>=2.5 in /Users/michaelpeng/anaconda3/lib/python3.10/site-packages (from requests<3,>=2.0.0->wandb) (3.4)\n",
      "Requirement already satisfied: smmap<6,>=3.0.1 in /Users/michaelpeng/anaconda3/lib/python3.10/site-packages (from gitdb<5,>=4.0.1->gitpython!=3.1.29,>=1.0.0->wandb) (5.0.1)\n",
      "Note: you may need to restart the kernel to use updated packages.\n"
     ]
    }
   ],
   "source": [
    "%pip install torch torchvision transformers\n",
    "%pip install wandb"
   ]
  },
  {
   "cell_type": "code",
   "execution_count": 2,
   "metadata": {},
   "outputs": [
    {
     "name": "stderr",
     "output_type": "stream",
     "text": [
      "/Users/michaelpeng/anaconda3/lib/python3.10/site-packages/tqdm/auto.py:21: TqdmWarning: IProgress not found. Please update jupyter and ipywidgets. See https://ipywidgets.readthedocs.io/en/stable/user_install.html\n",
      "  from .autonotebook import tqdm as notebook_tqdm\n"
     ]
    }
   ],
   "source": [
    "import os\n",
    "import json\n",
    "from torch.utils.data import Dataset, DataLoader\n",
    "from torchvision import transforms\n",
    "from PIL import Image\n",
    "\n",
    "class ImageCaptionDataset(Dataset):\n",
    "    def __init__(self, img_dir, seg_dir, caption_file, transform=None):\n",
    "        self.img_dir = img_dir\n",
    "        self.seg_dir = seg_dir\n",
    "        self.transform = transform\n",
    "        with open(caption_file, 'r') as f:\n",
    "            self.captions = json.load(f)\n",
    "        self.filenames = list(self.captions.keys())\n",
    "\n",
    "    def __len__(self):\n",
    "        return len(self.filenames)\n",
    "\n",
    "    def __getitem__(self, idx):\n",
    "        img_name = self.filenames[idx]\n",
    "        seg_name = 'segmented_' + img_name  #Adjusting name for segmented images\n",
    "\n",
    "        img_path = os.path.join(self.img_dir, img_name)\n",
    "        seg_path = os.path.join(self.seg_dir, seg_name)\n",
    "\n",
    "        image = Image.open(img_path).convert('RGB')\n",
    "        segmentation = Image.open(seg_path).convert('L')\n",
    "\n",
    "        if self.transform:\n",
    "            image = self.transform(image)\n",
    "            segmentation = self.transform(segmentation)\n",
    "\n",
    "        caption = self.captions[img_name]\n",
    "        return image, segmentation, caption\n",
    "\n",
    "\n",
    "# Transformations\n",
    "transform = transforms.Compose([\n",
    "    transforms.Resize((256, 256)),\n",
    "    transforms.ToTensor(),\n",
    "])"
   ]
  },
  {
   "cell_type": "code",
   "execution_count": 5,
   "metadata": {},
   "outputs": [],
   "source": [
    "import torch\n",
    "import torch.nn.functional as F\n",
    "\n",
    "def apply_sobel_operator(segmentation):\n",
    "    sobel_x = torch.tensor([[-1, 0, 1], [-2, 0, 2], [-1, 0, 1]], dtype=torch.float32).view(1, 1, 3, 3)\n",
    "    sobel_y = torch.tensor([[-1, -2, -1], [0, 0, 0], [1, 2, 1]], dtype=torch.float32).view(1, 1, 3, 3)\n",
    "    \n",
    "    # Ensure the segmentation tensor is float and has a batch dimension\n",
    "    if len(segmentation.shape) == 2:\n",
    "        segmentation = segmentation.unsqueeze(0).unsqueeze(0)\n",
    "    elif len(segmentation.shape) == 3:\n",
    "        segmentation = segmentation.unsqueeze(1)\n",
    "\n",
    "    edges_x = F.conv2d(segmentation, sobel_x, padding=1)\n",
    "    edges_y = F.conv2d(segmentation, sobel_y, padding=1)\n",
    "\n",
    "    edges = torch.sqrt(edges_x**2 + edges_y**2)\n",
    "\n",
    "    threshold = edges.mean() * 1.5\n",
    "    binary_mask = (edges > threshold).float()\n",
    "\n",
    "    return binary_mask"
   ]
  },
  {
   "cell_type": "code",
   "execution_count": 6,
   "metadata": {},
   "outputs": [],
   "source": [
    "import torch.nn as nn\n",
    "from transformers import BertModel, BertTokenizer\n",
    "\n",
    "class DiffusionModel(nn.Module):\n",
    "    def __init__(self):\n",
    "        super(DiffusionModel, self).__init__()\n",
    "        self.text_encoder = BertModel.from_pretrained('bert-base-uncased')\n",
    "        self.image_encoder = nn.Sequential(\n",
    "            nn.Conv2d(3, 64, kernel_size=3, stride=1, padding=1),\n",
    "            nn.ReLU(),\n",
    "            nn.Conv2d(64, 128, kernel_size=3, stride=1, padding=1),\n",
    "            nn.ReLU()\n",
    "        )\n",
    "\n",
    "        self.mu_network = nn.Sequential(\n",
    "            nn.Conv2d(128, 3, kernel_size=1)\n",
    "        )\n",
    "\n",
    "        # Network to predict dynamic beta values (noise levels)\n",
    "        self.beta_network = nn.Sequential(\n",
    "            nn.Linear(768, 100),\n",
    "            nn.Sigmoid()\n",
    "        )\n",
    "\n",
    "    def forward(self, x_t, m, captions, t):\n",
    "        # Encode text\n",
    "        inputs = tokenizer(captions, return_tensors=\"pt\", padding=True, truncation=True)\n",
    "        text_features = self.text_encoder(**inputs).pooler_output\n",
    "\n",
    "        # Get dynamic noise level (beta_t) from text features\n",
    "        beta_schedule = self.beta_network(text_features)\n",
    "        beta_t = beta_schedule[:, t].unsqueeze(-1).unsqueeze(-1).unsqueeze(-1)\n",
    "\n",
    "        # Apply noise where m is 0 (non-segmentation areas)\n",
    "        noise = torch.randn_like(x_t) * torch.sqrt(beta_t)\n",
    "        x_t1_pred = torch.sqrt(1 - beta_t) * x_t + (1 - m) * noise\n",
    "\n",
    "        return x_t1_pred\n",
    "\n",
    "model = DiffusionModel()\n",
    "tokenizer = BertTokenizer.from_pretrained('bert-base-uncased')"
   ]
  },
  {
   "cell_type": "code",
   "execution_count": 7,
   "metadata": {},
   "outputs": [],
   "source": [
    "def diffusion_loss(x_t, x_t1_pred, m):\n",
    "    return ((x_t1_pred - x_t) ** 2 * (1 - m)).mean()"
   ]
  },
  {
   "cell_type": "code",
   "execution_count": 11,
   "metadata": {},
   "outputs": [
    {
     "name": "stderr",
     "output_type": "stream",
     "text": [
      "\u001b[34m\u001b[1mwandb\u001b[0m: Currently logged in as: \u001b[33mmichaelpeng72\u001b[0m. Use \u001b[1m`wandb login --relogin`\u001b[0m to force relogin\n"
     ]
    },
    {
     "data": {
      "text/html": [
       "Tracking run with wandb version 0.17.0"
      ],
      "text/plain": [
       "<IPython.core.display.HTML object>"
      ]
     },
     "metadata": {},
     "output_type": "display_data"
    },
    {
     "data": {
      "text/html": [
       "Run data is saved locally in <code>/Users/michaelpeng/Desktop/cv-finalproject/example-pipeline/wandb/run-20240510_031250-pl4wnkmg</code>"
      ],
      "text/plain": [
       "<IPython.core.display.HTML object>"
      ]
     },
     "metadata": {},
     "output_type": "display_data"
    },
    {
     "data": {
      "text/html": [
       "Syncing run <strong><a href='https://wandb.ai/michaelpeng72/image_captioning_with_diffusion_models/runs/pl4wnkmg' target=\"_blank\">confused-tree-3</a></strong> to <a href='https://wandb.ai/michaelpeng72/image_captioning_with_diffusion_models' target=\"_blank\">Weights & Biases</a> (<a href='https://wandb.me/run' target=\"_blank\">docs</a>)<br/>"
      ],
      "text/plain": [
       "<IPython.core.display.HTML object>"
      ]
     },
     "metadata": {},
     "output_type": "display_data"
    },
    {
     "data": {
      "text/html": [
       " View project at <a href='https://wandb.ai/michaelpeng72/image_captioning_with_diffusion_models' target=\"_blank\">https://wandb.ai/michaelpeng72/image_captioning_with_diffusion_models</a>"
      ],
      "text/plain": [
       "<IPython.core.display.HTML object>"
      ]
     },
     "metadata": {},
     "output_type": "display_data"
    },
    {
     "data": {
      "text/html": [
       " View run at <a href='https://wandb.ai/michaelpeng72/image_captioning_with_diffusion_models/runs/pl4wnkmg' target=\"_blank\">https://wandb.ai/michaelpeng72/image_captioning_with_diffusion_models/runs/pl4wnkmg</a>"
      ],
      "text/plain": [
       "<IPython.core.display.HTML object>"
      ]
     },
     "metadata": {},
     "output_type": "display_data"
    },
    {
     "name": "stdout",
     "output_type": "stream",
     "text": [
      "Starting Fold 1/5\n"
     ]
    },
    {
     "data": {
      "text/html": [
       "Finishing last run (ID:pl4wnkmg) before initializing another..."
      ],
      "text/plain": [
       "<IPython.core.display.HTML object>"
      ]
     },
     "metadata": {},
     "output_type": "display_data"
    },
    {
     "data": {
      "text/html": [
       " View run <strong style=\"color:#cdcd00\">confused-tree-3</strong> at: <a href='https://wandb.ai/michaelpeng72/image_captioning_with_diffusion_models/runs/pl4wnkmg' target=\"_blank\">https://wandb.ai/michaelpeng72/image_captioning_with_diffusion_models/runs/pl4wnkmg</a><br/> View project at: <a href='https://wandb.ai/michaelpeng72/image_captioning_with_diffusion_models' target=\"_blank\">https://wandb.ai/michaelpeng72/image_captioning_with_diffusion_models</a><br/>Synced 6 W&B file(s), 0 media file(s), 0 artifact file(s) and 0 other file(s)"
      ],
      "text/plain": [
       "<IPython.core.display.HTML object>"
      ]
     },
     "metadata": {},
     "output_type": "display_data"
    },
    {
     "data": {
      "text/html": [
       "Find logs at: <code>./wandb/run-20240510_031250-pl4wnkmg/logs</code>"
      ],
      "text/plain": [
       "<IPython.core.display.HTML object>"
      ]
     },
     "metadata": {},
     "output_type": "display_data"
    },
    {
     "data": {
      "text/html": [
       "Successfully finished last run (ID:pl4wnkmg). Initializing new run:<br/>"
      ],
      "text/plain": [
       "<IPython.core.display.HTML object>"
      ]
     },
     "metadata": {},
     "output_type": "display_data"
    },
    {
     "data": {
      "text/html": [
       "Tracking run with wandb version 0.17.0"
      ],
      "text/plain": [
       "<IPython.core.display.HTML object>"
      ]
     },
     "metadata": {},
     "output_type": "display_data"
    },
    {
     "data": {
      "text/html": [
       "Run data is saved locally in <code>/Users/michaelpeng/Desktop/cv-finalproject/example-pipeline/wandb/run-20240510_031259-kko2e28r</code>"
      ],
      "text/plain": [
       "<IPython.core.display.HTML object>"
      ]
     },
     "metadata": {},
     "output_type": "display_data"
    },
    {
     "data": {
      "text/html": [
       "Syncing run <strong><a href='https://wandb.ai/michaelpeng72/image_captioning_with_diffusion_models/runs/kko2e28r' target=\"_blank\">dry-aardvark-4</a></strong> to <a href='https://wandb.ai/michaelpeng72/image_captioning_with_diffusion_models' target=\"_blank\">Weights & Biases</a> (<a href='https://wandb.me/run' target=\"_blank\">docs</a>)<br/>"
      ],
      "text/plain": [
       "<IPython.core.display.HTML object>"
      ]
     },
     "metadata": {},
     "output_type": "display_data"
    },
    {
     "data": {
      "text/html": [
       " View project at <a href='https://wandb.ai/michaelpeng72/image_captioning_with_diffusion_models' target=\"_blank\">https://wandb.ai/michaelpeng72/image_captioning_with_diffusion_models</a>"
      ],
      "text/plain": [
       "<IPython.core.display.HTML object>"
      ]
     },
     "metadata": {},
     "output_type": "display_data"
    },
    {
     "data": {
      "text/html": [
       " View run at <a href='https://wandb.ai/michaelpeng72/image_captioning_with_diffusion_models/runs/kko2e28r' target=\"_blank\">https://wandb.ai/michaelpeng72/image_captioning_with_diffusion_models/runs/kko2e28r</a>"
      ],
      "text/plain": [
       "<IPython.core.display.HTML object>"
      ]
     },
     "metadata": {},
     "output_type": "display_data"
    },
    {
     "name": "stdout",
     "output_type": "stream",
     "text": [
      "Epoch 1, Train Loss: 0.3825, Validation Loss: 0.1059\n",
      "Epoch 2, Train Loss: 0.2413, Validation Loss: 0.0558\n",
      "Epoch 3, Train Loss: 0.1154, Validation Loss: 0.0299\n",
      "Epoch 4, Train Loss: 0.0789, Validation Loss: 0.0190\n",
      "Epoch 5, Train Loss: 0.0456, Validation Loss: 0.0094\n",
      "Epoch 6, Train Loss: 0.0283, Validation Loss: 0.0090\n",
      "Epoch 7, Train Loss: 0.0223, Validation Loss: 0.0065\n",
      "Epoch 8, Train Loss: 0.0163, Validation Loss: 0.0044\n",
      "Epoch 9, Train Loss: 0.0128, Validation Loss: 0.0035\n",
      "Epoch 10, Train Loss: 0.0097, Validation Loss: 0.0031\n",
      "Starting Fold 2/5\n"
     ]
    },
    {
     "data": {
      "text/html": [
       "Finishing last run (ID:kko2e28r) before initializing another..."
      ],
      "text/plain": [
       "<IPython.core.display.HTML object>"
      ]
     },
     "metadata": {},
     "output_type": "display_data"
    },
    {
     "data": {
      "text/html": [
       "W&B sync reduced upload amount by 21.3%             "
      ],
      "text/plain": [
       "<IPython.core.display.HTML object>"
      ]
     },
     "metadata": {},
     "output_type": "display_data"
    },
    {
     "data": {
      "text/html": [
       "<style>\n",
       "    table.wandb td:nth-child(1) { padding: 0 10px; text-align: left ; width: auto;} td:nth-child(2) {text-align: left ; width: 100%}\n",
       "    .wandb-row { display: flex; flex-direction: row; flex-wrap: wrap; justify-content: flex-start; width: 100% }\n",
       "    .wandb-col { display: flex; flex-direction: column; flex-basis: 100%; flex: 1; padding: 10px; }\n",
       "    </style>\n",
       "<div class=\"wandb-row\"><div class=\"wandb-col\"><h3>Run history:</h3><br/><table class=\"wandb\"><tr><td>Train Loss</td><td>█▅▃▂▂▁▁▁▁▁</td></tr><tr><td>Validation Loss</td><td>█▅▃▂▁▁▁▁▁▁</td></tr></table><br/></div><div class=\"wandb-col\"><h3>Run summary:</h3><br/><table class=\"wandb\"><tr><td>Train Loss</td><td>0.00975</td></tr><tr><td>Validation Loss</td><td>0.00312</td></tr></table><br/></div></div>"
      ],
      "text/plain": [
       "<IPython.core.display.HTML object>"
      ]
     },
     "metadata": {},
     "output_type": "display_data"
    },
    {
     "data": {
      "text/html": [
       " View run <strong style=\"color:#cdcd00\">dry-aardvark-4</strong> at: <a href='https://wandb.ai/michaelpeng72/image_captioning_with_diffusion_models/runs/kko2e28r' target=\"_blank\">https://wandb.ai/michaelpeng72/image_captioning_with_diffusion_models/runs/kko2e28r</a><br/> View project at: <a href='https://wandb.ai/michaelpeng72/image_captioning_with_diffusion_models' target=\"_blank\">https://wandb.ai/michaelpeng72/image_captioning_with_diffusion_models</a><br/>Synced 6 W&B file(s), 0 media file(s), 2 artifact file(s) and 0 other file(s)"
      ],
      "text/plain": [
       "<IPython.core.display.HTML object>"
      ]
     },
     "metadata": {},
     "output_type": "display_data"
    },
    {
     "data": {
      "text/html": [
       "Find logs at: <code>./wandb/run-20240510_031259-kko2e28r/logs</code>"
      ],
      "text/plain": [
       "<IPython.core.display.HTML object>"
      ]
     },
     "metadata": {},
     "output_type": "display_data"
    },
    {
     "data": {
      "text/html": [
       "Successfully finished last run (ID:kko2e28r). Initializing new run:<br/>"
      ],
      "text/plain": [
       "<IPython.core.display.HTML object>"
      ]
     },
     "metadata": {},
     "output_type": "display_data"
    },
    {
     "data": {
      "text/html": [
       "Tracking run with wandb version 0.17.0"
      ],
      "text/plain": [
       "<IPython.core.display.HTML object>"
      ]
     },
     "metadata": {},
     "output_type": "display_data"
    },
    {
     "data": {
      "text/html": [
       "Run data is saved locally in <code>/Users/michaelpeng/Desktop/cv-finalproject/example-pipeline/wandb/run-20240510_032816-zf33xeao</code>"
      ],
      "text/plain": [
       "<IPython.core.display.HTML object>"
      ]
     },
     "metadata": {},
     "output_type": "display_data"
    },
    {
     "data": {
      "text/html": [
       "Syncing run <strong><a href='https://wandb.ai/michaelpeng72/image_captioning_with_diffusion_models/runs/zf33xeao' target=\"_blank\">legendary-feather-5</a></strong> to <a href='https://wandb.ai/michaelpeng72/image_captioning_with_diffusion_models' target=\"_blank\">Weights & Biases</a> (<a href='https://wandb.me/run' target=\"_blank\">docs</a>)<br/>"
      ],
      "text/plain": [
       "<IPython.core.display.HTML object>"
      ]
     },
     "metadata": {},
     "output_type": "display_data"
    },
    {
     "data": {
      "text/html": [
       " View project at <a href='https://wandb.ai/michaelpeng72/image_captioning_with_diffusion_models' target=\"_blank\">https://wandb.ai/michaelpeng72/image_captioning_with_diffusion_models</a>"
      ],
      "text/plain": [
       "<IPython.core.display.HTML object>"
      ]
     },
     "metadata": {},
     "output_type": "display_data"
    },
    {
     "data": {
      "text/html": [
       " View run at <a href='https://wandb.ai/michaelpeng72/image_captioning_with_diffusion_models/runs/zf33xeao' target=\"_blank\">https://wandb.ai/michaelpeng72/image_captioning_with_diffusion_models/runs/zf33xeao</a>"
      ],
      "text/plain": [
       "<IPython.core.display.HTML object>"
      ]
     },
     "metadata": {},
     "output_type": "display_data"
    },
    {
     "name": "stdout",
     "output_type": "stream",
     "text": [
      "Epoch 1, Train Loss: 0.3762, Validation Loss: 0.0933\n",
      "Epoch 2, Train Loss: 0.2318, Validation Loss: 0.0446\n",
      "Epoch 3, Train Loss: 0.1155, Validation Loss: 0.0297\n",
      "Epoch 4, Train Loss: 0.0654, Validation Loss: 0.0183\n",
      "Epoch 5, Train Loss: 0.0474, Validation Loss: 0.0129\n",
      "Epoch 6, Train Loss: 0.0290, Validation Loss: 0.0075\n",
      "Epoch 7, Train Loss: 0.0187, Validation Loss: 0.0062\n",
      "Epoch 8, Train Loss: 0.0181, Validation Loss: 0.0043\n",
      "Epoch 9, Train Loss: 0.0124, Validation Loss: 0.0035\n",
      "Epoch 10, Train Loss: 0.0104, Validation Loss: 0.0032\n",
      "Starting Fold 3/5\n"
     ]
    },
    {
     "data": {
      "text/html": [
       "Finishing last run (ID:zf33xeao) before initializing another..."
      ],
      "text/plain": [
       "<IPython.core.display.HTML object>"
      ]
     },
     "metadata": {},
     "output_type": "display_data"
    },
    {
     "data": {
      "text/html": [
       "<style>\n",
       "    table.wandb td:nth-child(1) { padding: 0 10px; text-align: left ; width: auto;} td:nth-child(2) {text-align: left ; width: 100%}\n",
       "    .wandb-row { display: flex; flex-direction: row; flex-wrap: wrap; justify-content: flex-start; width: 100% }\n",
       "    .wandb-col { display: flex; flex-direction: column; flex-basis: 100%; flex: 1; padding: 10px; }\n",
       "    </style>\n",
       "<div class=\"wandb-row\"><div class=\"wandb-col\"><h3>Run history:</h3><br/><table class=\"wandb\"><tr><td>Train Loss</td><td>█▅▃▂▂▁▁▁▁▁</td></tr><tr><td>Validation Loss</td><td>█▄▃▂▂▁▁▁▁▁</td></tr></table><br/></div><div class=\"wandb-col\"><h3>Run summary:</h3><br/><table class=\"wandb\"><tr><td>Train Loss</td><td>0.01035</td></tr><tr><td>Validation Loss</td><td>0.0032</td></tr></table><br/></div></div>"
      ],
      "text/plain": [
       "<IPython.core.display.HTML object>"
      ]
     },
     "metadata": {},
     "output_type": "display_data"
    },
    {
     "data": {
      "text/html": [
       " View run <strong style=\"color:#cdcd00\">legendary-feather-5</strong> at: <a href='https://wandb.ai/michaelpeng72/image_captioning_with_diffusion_models/runs/zf33xeao' target=\"_blank\">https://wandb.ai/michaelpeng72/image_captioning_with_diffusion_models/runs/zf33xeao</a><br/> View project at: <a href='https://wandb.ai/michaelpeng72/image_captioning_with_diffusion_models' target=\"_blank\">https://wandb.ai/michaelpeng72/image_captioning_with_diffusion_models</a><br/>Synced 6 W&B file(s), 0 media file(s), 0 artifact file(s) and 0 other file(s)"
      ],
      "text/plain": [
       "<IPython.core.display.HTML object>"
      ]
     },
     "metadata": {},
     "output_type": "display_data"
    },
    {
     "data": {
      "text/html": [
       "Find logs at: <code>./wandb/run-20240510_032816-zf33xeao/logs</code>"
      ],
      "text/plain": [
       "<IPython.core.display.HTML object>"
      ]
     },
     "metadata": {},
     "output_type": "display_data"
    },
    {
     "data": {
      "text/html": [
       "Successfully finished last run (ID:zf33xeao). Initializing new run:<br/>"
      ],
      "text/plain": [
       "<IPython.core.display.HTML object>"
      ]
     },
     "metadata": {},
     "output_type": "display_data"
    },
    {
     "data": {
      "text/html": [
       "Tracking run with wandb version 0.17.0"
      ],
      "text/plain": [
       "<IPython.core.display.HTML object>"
      ]
     },
     "metadata": {},
     "output_type": "display_data"
    },
    {
     "data": {
      "text/html": [
       "Run data is saved locally in <code>/Users/michaelpeng/Desktop/cv-finalproject/example-pipeline/wandb/run-20240510_034323-7mysosc5</code>"
      ],
      "text/plain": [
       "<IPython.core.display.HTML object>"
      ]
     },
     "metadata": {},
     "output_type": "display_data"
    },
    {
     "data": {
      "text/html": [
       "Syncing run <strong><a href='https://wandb.ai/michaelpeng72/image_captioning_with_diffusion_models/runs/7mysosc5' target=\"_blank\">polar-surf-6</a></strong> to <a href='https://wandb.ai/michaelpeng72/image_captioning_with_diffusion_models' target=\"_blank\">Weights & Biases</a> (<a href='https://wandb.me/run' target=\"_blank\">docs</a>)<br/>"
      ],
      "text/plain": [
       "<IPython.core.display.HTML object>"
      ]
     },
     "metadata": {},
     "output_type": "display_data"
    },
    {
     "data": {
      "text/html": [
       " View project at <a href='https://wandb.ai/michaelpeng72/image_captioning_with_diffusion_models' target=\"_blank\">https://wandb.ai/michaelpeng72/image_captioning_with_diffusion_models</a>"
      ],
      "text/plain": [
       "<IPython.core.display.HTML object>"
      ]
     },
     "metadata": {},
     "output_type": "display_data"
    },
    {
     "data": {
      "text/html": [
       " View run at <a href='https://wandb.ai/michaelpeng72/image_captioning_with_diffusion_models/runs/7mysosc5' target=\"_blank\">https://wandb.ai/michaelpeng72/image_captioning_with_diffusion_models/runs/7mysosc5</a>"
      ],
      "text/plain": [
       "<IPython.core.display.HTML object>"
      ]
     },
     "metadata": {},
     "output_type": "display_data"
    },
    {
     "name": "stdout",
     "output_type": "stream",
     "text": [
      "Epoch 1, Train Loss: 0.3588, Validation Loss: 0.0847\n",
      "Epoch 2, Train Loss: 0.2158, Validation Loss: 0.0427\n",
      "Epoch 3, Train Loss: 0.0932, Validation Loss: 0.0324\n",
      "Epoch 4, Train Loss: 0.0851, Validation Loss: 0.0196\n",
      "Epoch 5, Train Loss: 0.0435, Validation Loss: 0.0129\n",
      "Epoch 6, Train Loss: 0.0289, Validation Loss: 0.0075\n",
      "Epoch 7, Train Loss: 0.0201, Validation Loss: 0.0052\n",
      "Epoch 8, Train Loss: 0.0138, Validation Loss: 0.0034\n",
      "Epoch 9, Train Loss: 0.0113, Validation Loss: 0.0031\n",
      "Epoch 10, Train Loss: 0.0100, Validation Loss: 0.0025\n",
      "Starting Fold 4/5\n"
     ]
    },
    {
     "data": {
      "text/html": [
       "Finishing last run (ID:7mysosc5) before initializing another..."
      ],
      "text/plain": [
       "<IPython.core.display.HTML object>"
      ]
     },
     "metadata": {},
     "output_type": "display_data"
    },
    {
     "data": {
      "text/html": [
       "<style>\n",
       "    table.wandb td:nth-child(1) { padding: 0 10px; text-align: left ; width: auto;} td:nth-child(2) {text-align: left ; width: 100%}\n",
       "    .wandb-row { display: flex; flex-direction: row; flex-wrap: wrap; justify-content: flex-start; width: 100% }\n",
       "    .wandb-col { display: flex; flex-direction: column; flex-basis: 100%; flex: 1; padding: 10px; }\n",
       "    </style>\n",
       "<div class=\"wandb-row\"><div class=\"wandb-col\"><h3>Run history:</h3><br/><table class=\"wandb\"><tr><td>Train Loss</td><td>█▅▃▃▂▁▁▁▁▁</td></tr><tr><td>Validation Loss</td><td>█▄▄▂▂▁▁▁▁▁</td></tr></table><br/></div><div class=\"wandb-col\"><h3>Run summary:</h3><br/><table class=\"wandb\"><tr><td>Train Loss</td><td>0.01002</td></tr><tr><td>Validation Loss</td><td>0.00248</td></tr></table><br/></div></div>"
      ],
      "text/plain": [
       "<IPython.core.display.HTML object>"
      ]
     },
     "metadata": {},
     "output_type": "display_data"
    },
    {
     "data": {
      "text/html": [
       " View run <strong style=\"color:#cdcd00\">polar-surf-6</strong> at: <a href='https://wandb.ai/michaelpeng72/image_captioning_with_diffusion_models/runs/7mysosc5' target=\"_blank\">https://wandb.ai/michaelpeng72/image_captioning_with_diffusion_models/runs/7mysosc5</a><br/> View project at: <a href='https://wandb.ai/michaelpeng72/image_captioning_with_diffusion_models' target=\"_blank\">https://wandb.ai/michaelpeng72/image_captioning_with_diffusion_models</a><br/>Synced 5 W&B file(s), 0 media file(s), 0 artifact file(s) and 0 other file(s)"
      ],
      "text/plain": [
       "<IPython.core.display.HTML object>"
      ]
     },
     "metadata": {},
     "output_type": "display_data"
    },
    {
     "data": {
      "text/html": [
       "Find logs at: <code>./wandb/run-20240510_034323-7mysosc5/logs</code>"
      ],
      "text/plain": [
       "<IPython.core.display.HTML object>"
      ]
     },
     "metadata": {},
     "output_type": "display_data"
    },
    {
     "data": {
      "text/html": [
       "Successfully finished last run (ID:7mysosc5). Initializing new run:<br/>"
      ],
      "text/plain": [
       "<IPython.core.display.HTML object>"
      ]
     },
     "metadata": {},
     "output_type": "display_data"
    },
    {
     "data": {
      "text/html": [
       "Tracking run with wandb version 0.17.0"
      ],
      "text/plain": [
       "<IPython.core.display.HTML object>"
      ]
     },
     "metadata": {},
     "output_type": "display_data"
    },
    {
     "data": {
      "text/html": [
       "Run data is saved locally in <code>/Users/michaelpeng/Desktop/cv-finalproject/example-pipeline/wandb/run-20240510_035909-35ruj3zz</code>"
      ],
      "text/plain": [
       "<IPython.core.display.HTML object>"
      ]
     },
     "metadata": {},
     "output_type": "display_data"
    },
    {
     "data": {
      "text/html": [
       "Syncing run <strong><a href='https://wandb.ai/michaelpeng72/image_captioning_with_diffusion_models/runs/35ruj3zz' target=\"_blank\">bright-night-7</a></strong> to <a href='https://wandb.ai/michaelpeng72/image_captioning_with_diffusion_models' target=\"_blank\">Weights & Biases</a> (<a href='https://wandb.me/run' target=\"_blank\">docs</a>)<br/>"
      ],
      "text/plain": [
       "<IPython.core.display.HTML object>"
      ]
     },
     "metadata": {},
     "output_type": "display_data"
    },
    {
     "data": {
      "text/html": [
       " View project at <a href='https://wandb.ai/michaelpeng72/image_captioning_with_diffusion_models' target=\"_blank\">https://wandb.ai/michaelpeng72/image_captioning_with_diffusion_models</a>"
      ],
      "text/plain": [
       "<IPython.core.display.HTML object>"
      ]
     },
     "metadata": {},
     "output_type": "display_data"
    },
    {
     "data": {
      "text/html": [
       " View run at <a href='https://wandb.ai/michaelpeng72/image_captioning_with_diffusion_models/runs/35ruj3zz' target=\"_blank\">https://wandb.ai/michaelpeng72/image_captioning_with_diffusion_models/runs/35ruj3zz</a>"
      ],
      "text/plain": [
       "<IPython.core.display.HTML object>"
      ]
     },
     "metadata": {},
     "output_type": "display_data"
    },
    {
     "name": "stdout",
     "output_type": "stream",
     "text": [
      "Epoch 1, Train Loss: 0.3652, Validation Loss: 0.0988\n",
      "Epoch 2, Train Loss: 0.2257, Validation Loss: 0.0518\n",
      "Epoch 3, Train Loss: 0.1258, Validation Loss: 0.0212\n",
      "Epoch 4, Train Loss: 0.0700, Validation Loss: 0.0123\n",
      "Epoch 5, Train Loss: 0.0357, Validation Loss: 0.0130\n",
      "Epoch 6, Train Loss: 0.0260, Validation Loss: 0.0078\n",
      "Epoch 7, Train Loss: 0.0201, Validation Loss: 0.0047\n",
      "Epoch 8, Train Loss: 0.0156, Validation Loss: 0.0040\n",
      "Epoch 9, Train Loss: 0.0123, Validation Loss: 0.0032\n",
      "Epoch 10, Train Loss: 0.0096, Validation Loss: 0.0026\n",
      "Starting Fold 5/5\n"
     ]
    },
    {
     "data": {
      "text/html": [
       "Finishing last run (ID:35ruj3zz) before initializing another..."
      ],
      "text/plain": [
       "<IPython.core.display.HTML object>"
      ]
     },
     "metadata": {},
     "output_type": "display_data"
    },
    {
     "data": {
      "text/html": [
       "W&B sync reduced upload amount by 21.3%             "
      ],
      "text/plain": [
       "<IPython.core.display.HTML object>"
      ]
     },
     "metadata": {},
     "output_type": "display_data"
    },
    {
     "data": {
      "text/html": [
       "<style>\n",
       "    table.wandb td:nth-child(1) { padding: 0 10px; text-align: left ; width: auto;} td:nth-child(2) {text-align: left ; width: 100%}\n",
       "    .wandb-row { display: flex; flex-direction: row; flex-wrap: wrap; justify-content: flex-start; width: 100% }\n",
       "    .wandb-col { display: flex; flex-direction: column; flex-basis: 100%; flex: 1; padding: 10px; }\n",
       "    </style>\n",
       "<div class=\"wandb-row\"><div class=\"wandb-col\"><h3>Run history:</h3><br/><table class=\"wandb\"><tr><td>Train Loss</td><td>█▅▃▂▂▁▁▁▁▁</td></tr><tr><td>Validation Loss</td><td>█▅▂▂▂▁▁▁▁▁</td></tr></table><br/></div><div class=\"wandb-col\"><h3>Run summary:</h3><br/><table class=\"wandb\"><tr><td>Train Loss</td><td>0.00955</td></tr><tr><td>Validation Loss</td><td>0.00262</td></tr></table><br/></div></div>"
      ],
      "text/plain": [
       "<IPython.core.display.HTML object>"
      ]
     },
     "metadata": {},
     "output_type": "display_data"
    },
    {
     "data": {
      "text/html": [
       " View run <strong style=\"color:#cdcd00\">bright-night-7</strong> at: <a href='https://wandb.ai/michaelpeng72/image_captioning_with_diffusion_models/runs/35ruj3zz' target=\"_blank\">https://wandb.ai/michaelpeng72/image_captioning_with_diffusion_models/runs/35ruj3zz</a><br/> View project at: <a href='https://wandb.ai/michaelpeng72/image_captioning_with_diffusion_models' target=\"_blank\">https://wandb.ai/michaelpeng72/image_captioning_with_diffusion_models</a><br/>Synced 6 W&B file(s), 0 media file(s), 2 artifact file(s) and 0 other file(s)"
      ],
      "text/plain": [
       "<IPython.core.display.HTML object>"
      ]
     },
     "metadata": {},
     "output_type": "display_data"
    },
    {
     "data": {
      "text/html": [
       "Find logs at: <code>./wandb/run-20240510_035909-35ruj3zz/logs</code>"
      ],
      "text/plain": [
       "<IPython.core.display.HTML object>"
      ]
     },
     "metadata": {},
     "output_type": "display_data"
    },
    {
     "data": {
      "text/html": [
       "Successfully finished last run (ID:35ruj3zz). Initializing new run:<br/>"
      ],
      "text/plain": [
       "<IPython.core.display.HTML object>"
      ]
     },
     "metadata": {},
     "output_type": "display_data"
    },
    {
     "data": {
      "text/html": [
       "Tracking run with wandb version 0.17.0"
      ],
      "text/plain": [
       "<IPython.core.display.HTML object>"
      ]
     },
     "metadata": {},
     "output_type": "display_data"
    },
    {
     "data": {
      "text/html": [
       "Run data is saved locally in <code>/Users/michaelpeng/Desktop/cv-finalproject/example-pipeline/wandb/run-20240510_041443-o9c8wval</code>"
      ],
      "text/plain": [
       "<IPython.core.display.HTML object>"
      ]
     },
     "metadata": {},
     "output_type": "display_data"
    },
    {
     "data": {
      "text/html": [
       "Syncing run <strong><a href='https://wandb.ai/michaelpeng72/image_captioning_with_diffusion_models/runs/o9c8wval' target=\"_blank\">quiet-dragon-8</a></strong> to <a href='https://wandb.ai/michaelpeng72/image_captioning_with_diffusion_models' target=\"_blank\">Weights & Biases</a> (<a href='https://wandb.me/run' target=\"_blank\">docs</a>)<br/>"
      ],
      "text/plain": [
       "<IPython.core.display.HTML object>"
      ]
     },
     "metadata": {},
     "output_type": "display_data"
    },
    {
     "data": {
      "text/html": [
       " View project at <a href='https://wandb.ai/michaelpeng72/image_captioning_with_diffusion_models' target=\"_blank\">https://wandb.ai/michaelpeng72/image_captioning_with_diffusion_models</a>"
      ],
      "text/plain": [
       "<IPython.core.display.HTML object>"
      ]
     },
     "metadata": {},
     "output_type": "display_data"
    },
    {
     "data": {
      "text/html": [
       " View run at <a href='https://wandb.ai/michaelpeng72/image_captioning_with_diffusion_models/runs/o9c8wval' target=\"_blank\">https://wandb.ai/michaelpeng72/image_captioning_with_diffusion_models/runs/o9c8wval</a>"
      ],
      "text/plain": [
       "<IPython.core.display.HTML object>"
      ]
     },
     "metadata": {},
     "output_type": "display_data"
    },
    {
     "name": "stdout",
     "output_type": "stream",
     "text": [
      "Epoch 1, Train Loss: 0.3697, Validation Loss: 0.0804\n",
      "Epoch 2, Train Loss: 0.2088, Validation Loss: 0.0376\n",
      "Epoch 3, Train Loss: 0.1089, Validation Loss: 0.0254\n",
      "Epoch 4, Train Loss: 0.0557, Validation Loss: 0.0104\n",
      "Epoch 5, Train Loss: 0.0343, Validation Loss: 0.0069\n",
      "Epoch 6, Train Loss: 0.0218, Validation Loss: 0.0057\n",
      "Epoch 7, Train Loss: 0.0173, Validation Loss: 0.0045\n",
      "Epoch 8, Train Loss: 0.0127, Validation Loss: 0.0029\n",
      "Epoch 9, Train Loss: 0.0099, Validation Loss: 0.0024\n",
      "Epoch 10, Train Loss: 0.0074, Validation Loss: 0.0023\n"
     ]
    },
    {
     "data": {
      "text/html": [
       "<style>\n",
       "    table.wandb td:nth-child(1) { padding: 0 10px; text-align: left ; width: auto;} td:nth-child(2) {text-align: left ; width: 100%}\n",
       "    .wandb-row { display: flex; flex-direction: row; flex-wrap: wrap; justify-content: flex-start; width: 100% }\n",
       "    .wandb-col { display: flex; flex-direction: column; flex-basis: 100%; flex: 1; padding: 10px; }\n",
       "    </style>\n",
       "<div class=\"wandb-row\"><div class=\"wandb-col\"><h3>Run history:</h3><br/><table class=\"wandb\"><tr><td>Train Loss</td><td>█▅▃▂▂▁▁▁▁▁</td></tr><tr><td>Validation Loss</td><td>█▄▃▂▁▁▁▁▁▁</td></tr></table><br/></div><div class=\"wandb-col\"><h3>Run summary:</h3><br/><table class=\"wandb\"><tr><td>Train Loss</td><td>0.00742</td></tr><tr><td>Validation Loss</td><td>0.00231</td></tr></table><br/></div></div>"
      ],
      "text/plain": [
       "<IPython.core.display.HTML object>"
      ]
     },
     "metadata": {},
     "output_type": "display_data"
    },
    {
     "data": {
      "text/html": [
       " View run <strong style=\"color:#cdcd00\">quiet-dragon-8</strong> at: <a href='https://wandb.ai/michaelpeng72/image_captioning_with_diffusion_models/runs/o9c8wval' target=\"_blank\">https://wandb.ai/michaelpeng72/image_captioning_with_diffusion_models/runs/o9c8wval</a><br/> View project at: <a href='https://wandb.ai/michaelpeng72/image_captioning_with_diffusion_models' target=\"_blank\">https://wandb.ai/michaelpeng72/image_captioning_with_diffusion_models</a><br/>Synced 6 W&B file(s), 0 media file(s), 0 artifact file(s) and 0 other file(s)"
      ],
      "text/plain": [
       "<IPython.core.display.HTML object>"
      ]
     },
     "metadata": {},
     "output_type": "display_data"
    },
    {
     "data": {
      "text/html": [
       "Find logs at: <code>./wandb/run-20240510_041443-o9c8wval/logs</code>"
      ],
      "text/plain": [
       "<IPython.core.display.HTML object>"
      ]
     },
     "metadata": {},
     "output_type": "display_data"
    }
   ],
   "source": [
    "import wandb\n",
    "from sklearn.model_selection import KFold\n",
    "\n",
    "T = 1000  #Total number of diffusion steps\n",
    "beta_start = 0.0001\n",
    "beta_end = 0.02\n",
    "\n",
    "# Linear schedule\n",
    "beta_t = torch.linspace(beta_start, beta_end, steps=T)\n",
    "\n",
    "n_splits = 5\n",
    "kf = KFold(n_splits=n_splits, shuffle=True, random_state=42)\n",
    "num_epochs = 10\n",
    "\n",
    "# Initialize a new W&B run\n",
    "wandb.init(project='image_captioning_with_diffusion_models', entity='michaelpeng72', config={\n",
    "    \"epochs\": num_epochs,\n",
    "    \"batch_size\": 16,\n",
    "    \"learning_rate\": 1e-4,\n",
    "    \"n_splits\": n_splits,\n",
    "    \"shuffle\": True,\n",
    "    \"random_state\": 42\n",
    "})\n",
    "\n",
    "# Config is accessible via wandb.config\n",
    "config = wandb.config\n",
    "\n",
    "full_dataset = ImageCaptionDataset('datasets/images', 'datasets/segmented', 'datasets/map.json', transform=transform)\n",
    "\n",
    "for fold, (train_idx, valid_idx) in enumerate(kf.split(full_dataset)):\n",
    "    print(f\"Starting Fold {fold+1}/{n_splits}\")\n",
    "    wandb.init(project='image_captioning_with_diffusion_models', entity='michaelpeng72',\n",
    "               group=\"Experiment-X\", job_type=f\"Fold-{fold+1}\", reinit=True)\n",
    "\n",
    "    # Splitting the dataset into train and validation for the current fold\n",
    "    train_subset = torch.utils.data.Subset(full_dataset, train_idx)\n",
    "    valid_subset = torch.utils.data.Subset(full_dataset, valid_idx)\n",
    "\n",
    "    # Create DataLoader for train and validation subsets\n",
    "    train_loader = DataLoader(train_subset, batch_size=16, shuffle=True)\n",
    "    valid_loader = DataLoader(valid_subset, batch_size=16, shuffle=False)\n",
    "\n",
    "    # Initialize the model and optimizer\n",
    "    model = DiffusionModel()\n",
    "    optimizer = torch.optim.Adam(model.parameters(), lr=1e-4)\n",
    "\n",
    "    # Training phase\n",
    "    model.train()\n",
    "    for epoch in range(num_epochs):\n",
    "        train_loss = 0\n",
    "        for images, segmentations, captions in train_loader:\n",
    "            m = apply_sobel_operator(segmentations)\n",
    "            t = torch.randint(0, 100, (1,)).item()\n",
    "\n",
    "            # Forward pass\n",
    "            x_t1_pred = model(images, m, captions, t)\n",
    "            loss = diffusion_loss(images, x_t1_pred, m)\n",
    "            train_loss += loss.item()\n",
    "\n",
    "            # Backpropagation\n",
    "            optimizer.zero_grad()\n",
    "            loss.backward()\n",
    "            optimizer.step()\n",
    "\n",
    "        train_loss /= len(train_loader)\n",
    "        wandb.log({\"Train Loss\": train_loss})\n",
    "\n",
    "        # Validation phase\n",
    "        model.eval() \n",
    "        valid_loss = 0\n",
    "        with torch.no_grad():\n",
    "            for images, segmentations, captions in valid_loader:\n",
    "                m = (segmentations > 0.5).float()\n",
    "                t = torch.randint(0, 100, (1,)).item()\n",
    "                \n",
    "                x_t1_pred = model(images, m, captions, t)\n",
    "                loss = diffusion_loss(images, x_t1_pred, m)\n",
    "                valid_loss += loss.item()\n",
    "\n",
    "        valid_loss /= len(valid_loader)\n",
    "\n",
    "        wandb.log({\"Validation Loss\": valid_loss})\n",
    "        print(f\"Epoch {epoch+1}, Train Loss: {train_loss:.4f}, Validation Loss: {valid_loss:.4f}\")\n",
    "        \n",
    "wandb.finish()"
   ]
  },
  {
   "cell_type": "code",
   "execution_count": 12,
   "metadata": {},
   "outputs": [],
   "source": [
    "#save the model to ../models\n",
    "torch.save(model.state_dict(), '../models/diffusion_model.pth')"
   ]
  },
  {
   "cell_type": "code",
   "execution_count": 7,
   "metadata": {},
   "outputs": [
    {
     "data": {
      "text/plain": [
       "<All keys matched successfully>"
      ]
     },
     "execution_count": 7,
     "metadata": {},
     "output_type": "execute_result"
    }
   ],
   "source": [
    "#load model from ../models\n",
    "model = DiffusionModel()\n",
    "model.load_state_dict(torch.load('../models/diffusion_model.pth'))"
   ]
  }
 ],
 "metadata": {
  "kernelspec": {
   "display_name": "base",
   "language": "python",
   "name": "python3"
  },
  "language_info": {
   "codemirror_mode": {
    "name": "ipython",
    "version": 3
   },
   "file_extension": ".py",
   "mimetype": "text/x-python",
   "name": "python",
   "nbconvert_exporter": "python",
   "pygments_lexer": "ipython3",
   "version": "3.10.9"
  }
 },
 "nbformat": 4,
 "nbformat_minor": 2
}
